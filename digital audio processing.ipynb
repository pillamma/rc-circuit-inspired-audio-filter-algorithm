{
 "cells": [
  {
   "cell_type": "markdown",
   "id": "fbd2a982",
   "metadata": {},
   "source": [
    "# processing an audio (inpired from rc circuit)"
   ]
  },
{
   "cell_type": "markdown",
   "id": "bb458ba8",
   "metadata": {},
   "source": [
    "## hi i am Nanjundaradhya h y"
   ]
  },
  {
   "cell_type": "markdown",
   "id": "bb458ba8",
   "metadata": {},
   "source": [
    "## i am planning to build an filter algorithm for audio "
   ]
  },
  {
   "cell_type": "code",
   "execution_count": 24,
   "id": "165247c1",
   "metadata": {
    "scrolled": true
   },
   "outputs": [
    {
     "name": "stdout",
     "output_type": "stream",
     "text": [
      "# # # # # # # # # "
     ]
    },
    {
     "ename": "IndexError",
     "evalue": "index 7998625 is out of bounds for axis 0 with size 7998625",
     "output_type": "error",
     "traceback": [
      "\u001b[0;31m---------------------------------------------------------------------------\u001b[0m",
      "\u001b[0;31mIndexError\u001b[0m                                Traceback (most recent call last)",
      "Cell \u001b[0;32mIn[24], line 21\u001b[0m\n\u001b[1;32m     19\u001b[0m         \u001b[38;5;28;01mif\u001b[39;00m (i\u001b[38;5;241m==\u001b[39m\u001b[38;5;28mlen\u001b[39m(signal)\u001b[38;5;241m-\u001b[39m\u001b[38;5;241m51\u001b[39m):\n\u001b[1;32m     20\u001b[0m             \u001b[38;5;28;01mbreak\u001b[39;00m\n\u001b[0;32m---> 21\u001b[0m         resolved[i][\u001b[38;5;241m0\u001b[39m]\u001b[38;5;241m=\u001b[39m \u001b[43mintegral\u001b[49m\u001b[43m(\u001b[49m\u001b[43mi\u001b[49m\u001b[43m,\u001b[49m\u001b[38;5;241;43m0\u001b[39;49m\u001b[43m)\u001b[49m\n\u001b[1;32m     22\u001b[0m         resolved[i][\u001b[38;5;241m1\u001b[39m]\u001b[38;5;241m=\u001b[39m integral(i,\u001b[38;5;241m1\u001b[39m)\n\u001b[1;32m     24\u001b[0m rate \u001b[38;5;241m=\u001b[39m \u001b[38;5;241m48000\u001b[39m\n",
      "Cell \u001b[0;32mIn[24], line 12\u001b[0m, in \u001b[0;36mintegral\u001b[0;34m(offset, channel)\u001b[0m\n\u001b[1;32m     10\u001b[0m \u001b[38;5;28msum\u001b[39m\u001b[38;5;241m=\u001b[39m\u001b[38;5;241m0\u001b[39m\n\u001b[1;32m     11\u001b[0m \u001b[38;5;28;01mfor\u001b[39;00m j \u001b[38;5;129;01min\u001b[39;00m \u001b[38;5;28mrange\u001b[39m(\u001b[38;5;241m100\u001b[39m):\n\u001b[0;32m---> 12\u001b[0m     \u001b[38;5;28msum\u001b[39m\u001b[38;5;241m=\u001b[39m\u001b[38;5;28msum\u001b[39m\u001b[38;5;241m+\u001b[39m\u001b[43msignal\u001b[49m\u001b[43m[\u001b[49m\u001b[43mj\u001b[49m\u001b[38;5;241;43m+\u001b[39;49m\u001b[43moffset\u001b[49m\u001b[43m]\u001b[49m[channel]\n\u001b[1;32m     13\u001b[0m \u001b[38;5;28;01mreturn\u001b[39;00m \u001b[38;5;28msum\u001b[39m\u001b[38;5;241m/\u001b[39m\u001b[38;5;241m100\u001b[39m\n",
      "\u001b[0;31mIndexError\u001b[0m: index 7998625 is out of bounds for axis 0 with size 7998625"
     ]
    }
   ],
   "source": [
    "from audio2numpy import open_audio\n",
    "import numpy as np\n",
    "from scipy.io.wavfile import write\n",
    "fp = \"/home/rudra/Downloads/namahshivay.wav\"  # change to the correct path to your file accordingly\n",
    "signal, sampling_rate = open_audio(fp)\n",
    "resolved=np.empty((len(signal),2), dtype=float, order='C')\n",
    "length=len(signal)/10\n",
    "count=0\n",
    "\n",
    "for j in range(100):\n",
    "        sum=sum+signal[j+offset][channel]\n",
    "   \n",
    "for i in range(len(signal)-1):\n",
    "        count=count+1\n",
    "        if (count>length):\n",
    "            count=0\n",
    "            print(\"#\",end=' ')\n",
    "        if (i==len(signal)-51):\n",
    "            break\n",
    "        resolved[i][0]= Anot +\n",
    "        resolved[i][1]= integral(i,1)\n",
    "        \n",
    "rate = 48000\n",
    "write('test.wav', rate, signal)\n",
    "write('resolved.wav', rate, resolved)\n",
    "print(len(resolved))\n",
    "print(sampling_rate)\n",
    "print(signal[100000][0])\n"
   ]
  },
  {
   "cell_type": "code",
   "execution_count": null,
   "id": "ad940ffe",
   "metadata": {},
   "outputs": [],
   "source": []
  },
  {
   "cell_type": "code",
   "execution_count": 22,
   "id": "ad100b6e",
   "metadata": {
    "scrolled": true
   },
   "outputs": [],
   "source": [
    "import numpy as np\n",
    "from scipy.io.wavfile import write\n",
    "\n",
    "rate = 48000\n",
    "\n",
    "write('test.wav', rate, signal)"
   ]
  },
  {
   "cell_type": "code",
   "execution_count": null,
   "id": "025dda21",
   "metadata": {},
   "outputs": [],
   "source": []
  }
 ],
 "metadata": {
  "kernelspec": {
   "display_name": "Python 3 (ipykernel)",
   "language": "python",
   "name": "python3"
  },
  "language_info": {
   "codemirror_mode": {
    "name": "ipython",
    "version": 3
   },
   "file_extension": ".py",
   "mimetype": "text/x-python",
   "name": "python",
   "nbconvert_exporter": "python",
   "pygments_lexer": "ipython3",
   "version": "3.10.6"
  }
 },
 "nbformat": 4,
 "nbformat_minor": 5
}
